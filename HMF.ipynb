{
 "cells": [
  {
   "cell_type": "code",
   "execution_count": 1,
   "metadata": {
    "id": "4mV1rigvCw6E"
   },
   "outputs": [],
   "source": [
    "import numpy as np\n",
    "from pylab import *\n",
    "import os\n",
    "from astropy.cosmology import FlatLambdaCDM\n",
    "from astropy import units as u\n",
    "from hmf import MassFunction     # The main hmf class\n",
    "from hmf import cosmo\n",
    "from hmf import Transfer\n",
    "%matplotlib inline"
   ]
  },
  {
   "cell_type": "code",
   "execution_count": 43,
   "metadata": {
    "colab": {
     "base_uri": "https://localhost:8080/"
    },
    "id": "gwQqPEbgCw6h",
    "outputId": "2b97979e-5016-4691-8672-a892f779242c"
   },
   "outputs": [],
   "source": [
    "# !pip install hmf@git+git://github.com/steven-murray/hmf.git\n",
    "# !pip install camb\n",
    "# !pip install hmf\n",
    "###### note: in order to add neutrino mass, need to change line 212 in hmf/density_field/transfer_models.py\n",
    "# from:\n",
    "## omch2=(self.cosmo.Om0 - self.cosmo.Ob0) * self.cosmo.h ** 2,\n",
    "# to:\n",
    "# omch2=(self.cosmo.Om0 - self.cosmo.Ob0) * self.cosmo.h ** 2 - sum(self.cosmo.m_nu.value)/93.14,"
   ]
  },
  {
   "cell_type": "code",
   "execution_count": 3,
   "metadata": {},
   "outputs": [
    {
     "name": "stdout",
     "output_type": "stream",
     "text": [
      "0.009535627558449613\n"
     ]
    }
   ],
   "source": [
    "########## Quijote simulation parameter\n",
    "om=0.3175\n",
    "ob=0.049\n",
    "h=0.6711\n",
    "ns=0.9624\n",
    "s8=0.834\n",
    "mnu=0\n",
    "mnu_ppp=0.4\n",
    "w=-1\n",
    "\n",
    "onu_ppp = mnu_ppp/93.14/h**2\n",
    "onuh2_ppp = mnu_ppp/93.14\n",
    "print (onu_ppp)"
   ]
  },
  {
   "cell_type": "code",
   "execution_count": 44,
   "metadata": {
    "id": "yZORGCqoCw6k"
   },
   "outputs": [
    {
     "data": {
      "text/plain": [
       "{'cosmo_model': FlatLambdaCDM(name=\"Planck15\", H0=67.7 km / (Mpc s), Om0=0.307, Tcmb0=2.725 K, Neff=3.05, m_nu=[0.   0.   0.06] eV, Ob0=0.0486),\n",
       " 'cosmo_params': {},\n",
       " 'n': 0.9667,\n",
       " 'sigma_8': 0.8159,\n",
       " 'growth_params': {},\n",
       " 'lnk_min': -18.420680743952367,\n",
       " 'lnk_max': 9.903487552536127,\n",
       " 'dlnk': 0.05,\n",
       " 'z': 0.0,\n",
       " 'transfer_model': hmf.density_field.transfer_models.CAMB,\n",
       " 'transfer_params': {},\n",
       " 'takahashi': True,\n",
       " 'growth_model': hmf.cosmology.growth_factor.GrowthFactor,\n",
       " 'hmf_model': hmf.mass_function.fitting_functions.Tinker08,\n",
       " 'Mmin': 10,\n",
       " 'Mmax': 15,\n",
       " 'dlog10m': 0.01,\n",
       " 'mdef_model': None,\n",
       " 'mdef_params': {},\n",
       " 'delta_c': 1.686,\n",
       " 'hmf_params': {},\n",
       " 'filter_model': hmf.density_field.filters.TopHat,\n",
       " 'filter_params': {},\n",
       " 'disable_mass_conversion': True}"
      ]
     },
     "execution_count": 44,
     "metadata": {},
     "output_type": "execute_result"
    }
   ],
   "source": [
    "MassFunction.get_all_parameter_defaults(recursive=False)\n",
    "# MassFunction.parameter_info([\"cosmo_model\",\"sigma_8\"])"
   ]
  },
  {
   "cell_type": "code",
   "execution_count": 56,
   "metadata": {},
   "outputs": [
    {
     "name": "stdout",
     "output_type": "stream",
     "text": [
      "{'Om0': 0.3175, 'Ob0': 0.049, 'H0': 67.11, 'm_nu': <Quantity [0., 0., 0.] eV>}\n",
      "{'Om0': 0.3175, 'Ob0': 0.049, 'H0': 67.11, 'm_nu': <Quantity [0.13333333, 0.13333333, 0.13333333] eV>}\n"
     ]
    }
   ],
   "source": [
    "tr0 = Transfer(cosmo_params={\"Om0\":om, \"Ob0\":ob,\"H0\":100*h, \"m_nu\":u.eV*ones(3)*(mnu/3)},\n",
    "          sigma_8=s8,\n",
    "          n=ns,)\n",
    "trp = Transfer(cosmo_params={\"Om0\":om, \"Ob0\":ob,\"H0\":100*h, \"m_nu\":u.eV*ones(3)*(mnu_ppp/3)},\n",
    "          sigma_8=s8,\n",
    "          n=ns,)\n",
    "\n",
    "print (tr0.cosmo_params)\n",
    "print (trp.cosmo_params)\n",
    "\n",
    "#### test to make sure they're different (taking into account of neutrino mass effect)\n",
    "# print (tr0.transfer_function - trp.transfer_function)"
   ]
  },
  {
   "cell_type": "code",
   "execution_count": 53,
   "metadata": {},
   "outputs": [
    {
     "name": "stdout",
     "output_type": "stream",
     "text": [
      "PS\n",
      "ST\n",
      "Tinker08\n"
     ]
    }
   ],
   "source": [
    "############ test for various model\n",
    "\n",
    "diff_arr = []\n",
    "models = ['PS', 'ST', 'Tinker08']\n",
    "\n",
    "for imodel in models:\n",
    "    print (imodel)\n",
    "    mf0 = MassFunction(z = 0, \n",
    "          cosmo_params={\"Om0\":om, \"Ob0\":ob,\"H0\":100*h, \"m_nu\":u.eV*zeros(3)},\n",
    "          hmf_model=imodel,\n",
    "          sigma_8=s8, \n",
    "          Mmax=16,\n",
    "          n=ns,\n",
    "          takahashi=True)           \n",
    "    mfp = MassFunction(z = 0,\n",
    "          cosmo_params={\"Om0\":om, \"Ob0\":ob,\"H0\":100*h, \"m_nu\":u.eV*ones(3)*(mnu_ppp/3)},\n",
    "          hmf_model=imodel,\n",
    "          Mmax=16,\n",
    "          sigma_8=s8,\n",
    "          n=ns,\n",
    "          takahashi=True) \n",
    "    diff_arr.append([mf0.m, (mfp.dndlog10m-mf0.dndlog10m)/mnu_ppp])"
   ]
  },
  {
   "cell_type": "code",
   "execution_count": 55,
   "metadata": {},
   "outputs": [
    {
     "name": "stdout",
     "output_type": "stream",
     "text": [
      "{'Om0': 0.3175, 'Ob0': 0.049, 'H0': 67.11, 'm_nu': <Quantity [0., 0., 0.] eV>}\n",
      "0.834\n",
      "{'Om0': 0.3175, 'Ob0': 0.049, 'H0': 67.11, 'm_nu': <Quantity [0.13333333, 0.13333333, 0.13333333] eV>}\n",
      "0.834\n"
     ]
    }
   ],
   "source": [
    "print (mf0.cosmo_params)\n",
    "print (mf0.sigma_8)\n",
    "\n",
    "print (mfp.cosmo_params)\n",
    "print (mfp.sigma_8)"
   ]
  },
  {
   "cell_type": "code",
   "execution_count": 54,
   "metadata": {},
   "outputs": [
    {
     "data": {
      "image/png": "[encoded data removed]",
      "text/plain": [
       "<Figure size 576x432 with 1 Axes>"
      ]
     },
     "metadata": {
      "needs_background": "light"
     },
     "output_type": "display_data"
    }
   ],
   "source": [
    "models = ['PS', 'ST', 'Tinker08']\n",
    "figure(figsize=(8,6))\n",
    "for i in range(len(models)):\n",
    "    plot(diff_arr[i][0], diff_arr[i][1], label=models[i])\n",
    "xlim(1e13, 1e15)\n",
    "yscale('symlog', linthreshy=1e-9)\n",
    "xscale('log')\n",
    "xlabel(r\"Mass, $[h^{-1}M_\\odot]$\",fontsize=14)\n",
    "ylabel('d(HMF) / dMnu',fontsize=14)\n",
    "legend(fontsize=14)\n",
    "show()"
   ]
  },
  {
   "cell_type": "code",
   "execution_count": null,
   "metadata": {},
   "outputs": [],
   "source": []
  }
 ],
 "metadata": {
  "colab": {
   "name": "HMF.ipynb",
   "provenance": []
  },
  "kernelspec": {
   "display_name": "Python 3",
   "language": "python",
   "name": "python3"
  },
  "language_info": {
   "codemirror_mode": {
    "name": "ipython",
    "version": 3
   },
   "file_extension": ".py",
   "mimetype": "text/x-python",
   "name": "python",
   "nbconvert_exporter": "python",
   "pygments_lexer": "ipython3",
   "version": "3.7.6"
  }
 },
 "nbformat": 4,
 "nbformat_minor": 1
}
