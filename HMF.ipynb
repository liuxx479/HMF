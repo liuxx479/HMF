{
 "cells": [
  {
   "cell_type": "code",
   "execution_count": 1,
   "metadata": {
    "colab": {
     "base_uri": "https://localhost:8080/"
    },
    "id": "gwQqPEbgCw6h",
    "outputId": "2b97979e-5016-4691-8672-a892f779242c"
   },
   "outputs": [],
   "source": [
    "########## install astropy, camb, and hmf\n",
    "# !pip install astropy\n",
    "# !pip install camb\n",
    "# !pip install hmf\n",
    "\n",
    "##### laternatively, install hmf from github\n",
    "# !pip install hmf@git+git://github.com/steven-murray/hmf.git\n",
    "\n",
    "###### note: in order to add neutrino mass, need to change line 212 in hmf/density_field/transfer_models.py\n",
    "### from:\n",
    "# omch2=(self.cosmo.Om0 - self.cosmo.Ob0) * self.cosmo.h ** 2,\n",
    "### to:\n",
    "### We assume neutrino hierarchy is degenerate\n",
    "# also see: https://camb.readthedocs.io/en/latest/_modules/camb/model.html#CAMBparams\n",
    "# omch2=(self.cosmo.Om0 - self.cosmo.Ob0 - self.cosmo.Onu0) * self.cosmo.h ** 2,\n",
    "# mnu=sum(self.cosmo.m_nu.value),\n",
    "# neutrino_hierarchy='degenerate',"
   ]
  },
  {
   "cell_type": "code",
   "execution_count": 2,
   "metadata": {
    "id": "4mV1rigvCw6E"
   },
   "outputs": [],
   "source": [
    "import numpy as np\n",
    "from pylab import *\n",
    "import os\n",
    "from astropy.cosmology import FlatLambdaCDM\n",
    "from astropy import units as u\n",
    "from hmf import MassFunction     # The main hmf class\n",
    "from hmf import cosmo\n",
    "from hmf import Transfer\n",
    "%matplotlib inline"
   ]
  },
  {
   "cell_type": "code",
   "execution_count": 3,
   "metadata": {},
   "outputs": [
    {
     "name": "stdout",
     "output_type": "stream",
     "text": [
      "omega_nu 0.009535627558449613\n"
     ]
    }
   ],
   "source": [
    "########## Quijote simulation parameter\n",
    "om=0.3175\n",
    "ob=0.049\n",
    "h=0.6711\n",
    "ns=0.9624\n",
    "s8=0.834\n",
    "mnu=0\n",
    "mnu_ppp=0.4\n",
    "w=-1\n",
    "\n",
    "##### derived neutrino parameter\n",
    "omnuh2_ppp = mnu_ppp/93.14 ### omega_nu * h^2 = m_nu / 93.14eV\n",
    "print ('omega_nu',omnuh2_ppp / h**2)\n",
    "\n",
    "##### mass bin parameters\n",
    "Mmin=11\n",
    "Mmax=16\n",
    "dlog10m=0.01"
   ]
  },
  {
   "cell_type": "code",
   "execution_count": 4,
   "metadata": {
    "id": "yZORGCqoCw6k"
   },
   "outputs": [
    {
     "name": "stdout",
     "output_type": "stream",
     "text": [
      "{'Om0': 0.3175, 'Ob0': 0.049, 'H0': 67.11, 'm_nu': <Quantity [0.13333333, 0.13333333, 0.13333333] eV>} \n",
      " 0.834 0.9624\n",
      "'FlatLambdaCDM' object has no attribute '_defaults'\n",
      "'NoneType' object has no attribute '_defaults'\n"
     ]
    },
    {
     "data": {
      "text/plain": [
       "{'cosmo_model': FlatLambdaCDM(name=\"Planck15\", H0=67.7 km / (Mpc s), Om0=0.307, Tcmb0=2.725 K, Neff=3.05, m_nu=[0.   0.   0.06] eV, Ob0=0.0486),\n",
       " 'cosmo_params': {},\n",
       " 'n': 0.9667,\n",
       " 'sigma_8': 0.8159,\n",
       " 'growth_params': {'dlna': 0.01, 'amin': 1e-08},\n",
       " 'lnk_min': -18.420680743952367,\n",
       " 'lnk_max': 9.903487552536127,\n",
       " 'dlnk': 0.05,\n",
       " 'z': 0.0,\n",
       " 'transfer_model': hmf.density_field.transfer_models.CAMB,\n",
       " 'transfer_params': {'camb_params': None,\n",
       "  'dark_energy_params': {},\n",
       "  'extrapolate_with_eh': False,\n",
       "  'kmax': None},\n",
       " 'takahashi': True,\n",
       " 'growth_model': hmf.cosmology.growth_factor.GrowthFactor,\n",
       " 'hmf_model': hmf.mass_function.fitting_functions.Tinker08,\n",
       " 'Mmin': 10,\n",
       " 'Mmax': 15,\n",
       " 'dlog10m': 0.01,\n",
       " 'mdef_model': None,\n",
       " 'mdef_params': {},\n",
       " 'delta_c': 1.686,\n",
       " 'hmf_params': {'A_200': 0.1858659,\n",
       "  'A_300': 0.1995973,\n",
       "  'A_400': 0.2115659,\n",
       "  'A_600': 0.2184113,\n",
       "  'A_800': 0.2480968,\n",
       "  'A_1200': 0.2546053,\n",
       "  'A_1600': 0.26,\n",
       "  'A_2400': 0.26,\n",
       "  'A_3200': 0.26,\n",
       "  'a_200': 1.466904,\n",
       "  'a_300': 1.521782,\n",
       "  'a_400': 1.559186,\n",
       "  'a_600': 1.614585,\n",
       "  'a_800': 1.869936,\n",
       "  'a_1200': 2.128056,\n",
       "  'a_1600': 2.301275,\n",
       "  'a_2400': 2.529241,\n",
       "  'a_3200': 2.661983,\n",
       "  'b_200': 2.571104,\n",
       "  'b_300': 2.254217,\n",
       "  'b_400': 2.048674,\n",
       "  'b_600': 1.869559,\n",
       "  'b_800': 1.588649,\n",
       "  'b_1200': 1.507134,\n",
       "  'b_1600': 1.464374,\n",
       "  'b_2400': 1.436827,\n",
       "  'b_3200': 1.40521,\n",
       "  'c_200': 1.193958,\n",
       "  'c_300': 1.270316,\n",
       "  'c_400': 1.335191,\n",
       "  'c_600': 1.446266,\n",
       "  'c_800': 1.581345,\n",
       "  'c_1200': 1.79505,\n",
       "  'c_1600': 1.965613,\n",
       "  'c_2400': 2.237466,\n",
       "  'c_3200': 2.439729,\n",
       "  'A_exp': 0.14,\n",
       "  'a_exp': 0.06},\n",
       " 'filter_model': hmf.density_field.filters.TopHat,\n",
       " 'filter_params': {},\n",
       " 'disable_mass_conversion': True}"
      ]
     },
     "execution_count": 4,
     "metadata": {},
     "output_type": "execute_result"
    }
   ],
   "source": [
    "######## check all the parameters go into the massfunction\n",
    "mf = MassFunction(z = 0, \n",
    "      cosmo_params={\"Om0\":om, \"Ob0\":ob,\"H0\":100*h, \"m_nu\":u.eV*ones(3)*(mnu_ppp/3)},\n",
    "      hmf_model=\"ST\",\n",
    "      sigma_8=s8, \n",
    "      Mmax=16,\n",
    "      n=ns,\n",
    "      takahashi=True)    \n",
    "\n",
    "print (mf.cosmo_params, '\\n',\n",
    "       mf.sigma_8, mf.n)\n",
    "\n",
    "####### display all the parameters go into the code, so we know what can be passed to the function\n",
    "MassFunction.get_all_parameter_defaults()"
   ]
  },
  {
   "cell_type": "code",
   "execution_count": 5,
   "metadata": {},
   "outputs": [
    {
     "name": "stdout",
     "output_type": "stream",
     "text": [
      "FlatLambdaCDM(name=\"Planck15\", H0=67.1 km / (Mpc s), Om0=0.318, Tcmb0=2.725 K, Neff=3.05, m_nu=[0.13333333 0.13333333 0.13333333] eV, Ob0=0.049)\n",
      "0.3175 0.009586274016952393 0.049 [0.13333333 0.13333333 0.13333333] eV\n"
     ]
    }
   ],
   "source": [
    "print (mf.cosmo)\n",
    "print (mf.cosmo.Om0, mf.cosmo.Onu0, mf.cosmo.Ob0, mf.cosmo.m_nu)"
   ]
  },
  {
   "cell_type": "code",
   "execution_count": 6,
   "metadata": {},
   "outputs": [],
   "source": [
    "######## test Transfer functions, make sure they are different for 0 and nonzero neutrino masses - pass\n",
    "\n",
    "# tr0 = Transfer(cosmo_params={\"Om0\":om, \"Ob0\":ob,\"H0\":100*h, \"m_nu\":u.eV*ones(3)*(mnu/3)},\n",
    "#           sigma_8=s8,\n",
    "#           n=ns,)\n",
    "# trp = Transfer(cosmo_params={\"Om0\":om, \"Ob0\":ob,\"H0\":100*h, \"m_nu\":u.eV*ones(3)*(mnu_ppp/3)},\n",
    "#           sigma_8=s8,\n",
    "#           n=ns,)\n",
    "\n",
    "# print (tr0.cosmo_params)\n",
    "# print (trp.cosmo_params)\n",
    "# print (tr0.transfer_function - trp.transfer_function)"
   ]
  },
  {
   "cell_type": "code",
   "execution_count": 7,
   "metadata": {},
   "outputs": [
    {
     "name": "stdout",
     "output_type": "stream",
     "text": [
      "PS\n",
      "ST\n",
      "Tinker08\n"
     ]
    }
   ],
   "source": [
    "############ generate HMF for various models\n",
    "\n",
    "diff_arr = []\n",
    "models = ['PS', 'ST', 'Tinker08']\n",
    "\n",
    "for imodel in models:\n",
    "    print (imodel)\n",
    "    mf0 = MassFunction(z = 0, \n",
    "          cosmo_params={\"Om0\":om, \"Ob0\":ob,\"H0\":100*h, \"m_nu\":u.eV*zeros(3)},\n",
    "          hmf_model=imodel,\n",
    "          sigma_8=s8, \n",
    "          Mmax=16,\n",
    "          n=ns,\n",
    "          takahashi=True)           \n",
    "    mfp = MassFunction(z = 0,\n",
    "          cosmo_params={\"Om0\":om, \"Ob0\":ob,\"H0\":100*h, \"m_nu\":u.eV*ones(3)*(mnu_ppp/3)},\n",
    "          hmf_model=imodel,\n",
    "          Mmax=16,\n",
    "          sigma_8=s8,\n",
    "          n=ns,\n",
    "          takahashi=True) \n",
    "    diff_arr.append([mf0.m, (mfp.dndlog10m-mf0.dndlog10m)/mnu_ppp])"
   ]
  },
  {
   "cell_type": "code",
   "execution_count": 8,
   "metadata": {},
   "outputs": [
    {
     "name": "stdout",
     "output_type": "stream",
     "text": [
      "{'Om0': 0.3175, 'Ob0': 0.049, 'H0': 67.11, 'm_nu': <Quantity [0., 0., 0.] eV>} sigma8: 0.834\n",
      "{'Om0': 0.3175, 'Ob0': 0.049, 'H0': 67.11, 'm_nu': <Quantity [0.13333333, 0.13333333, 0.13333333] eV>} sigma8: 0.834\n"
     ]
    }
   ],
   "source": [
    "print (mf0.cosmo_params, 'sigma8:', mf0.sigma_8)\n",
    "\n",
    "print (mfp.cosmo_params, 'sigma8:', mfp.sigma_8)"
   ]
  },
  {
   "cell_type": "code",
   "execution_count": 9,
   "metadata": {},
   "outputs": [
    {
     "data": {
      "image/png": "[encoded data removed]",
      "text/plain": [
       "<Figure size 576x432 with 1 Axes>"
      ]
     },
     "metadata": {
      "needs_background": "light"
     },
     "output_type": "display_data"
    }
   ],
   "source": [
    "models = ['PS', 'ST', 'Tinker08']\n",
    "figure(figsize=(8,6))\n",
    "plot([1e13, 1e16],[0,0], 'k--')\n",
    "for i in range(len(models)):\n",
    "    plot(diff_arr[i][0], diff_arr[i][1], label=models[i])\n",
    "xlim(1e13, 1e16)\n",
    "yscale('symlog', linthreshy=1e-9)\n",
    "xscale('log')\n",
    "xlabel(r\"$M_h [h^{-1}M_\\odot]$\",fontsize=14)\n",
    "ylabel(r'$d(HMF) / dM_\\nu$',fontsize=14)\n",
    "legend(fontsize=14)\n",
    "show()"
   ]
  },
  {
   "cell_type": "code",
   "execution_count": null,
   "metadata": {},
   "outputs": [],
   "source": []
  }
 ],
 "metadata": {
  "colab": {
   "name": "HMF.ipynb",
   "provenance": []
  },
  "kernelspec": {
   "display_name": "Python 3",
   "language": "python",
   "name": "python3"
  },
  "language_info": {
   "codemirror_mode": {
    "name": "ipython",
    "version": 3
   },
   "file_extension": ".py",
   "mimetype": "text/x-python",
   "name": "python",
   "nbconvert_exporter": "python",
   "pygments_lexer": "ipython3",
   "version": "3.7.6"
  }
 },
 "nbformat": 4,
 "nbformat_minor": 1
}
