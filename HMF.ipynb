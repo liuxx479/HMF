{
 "cells": [
  {
   "cell_type": "code",
   "execution_count": 9,
   "metadata": {},
   "outputs": [],
   "source": [
    "import numpy as np\n",
    "from pylab import *\n",
    "import os\n",
    "%matplotlib inline"
   ]
  },
  {
   "cell_type": "code",
   "execution_count": 5,
   "metadata": {},
   "outputs": [
    {
     "name": "stdout",
     "output_type": "stream",
     "text": [
      "Collecting hmf@ git+git://github.com/steven-murray/hmf.git from git+git://github.com/steven-murray/hmf.git\n",
      "  Cloning git://github.com/steven-murray/hmf.git to /tmp/pip-install-3qihk9rk/hmf\n",
      "  Running command git clone -q git://github.com/steven-murray/hmf.git /tmp/pip-install-3qihk9rk/hmf\n",
      "  Installing build dependencies ... \u001b[?25ldone\n",
      "\u001b[?25h  Getting requirements to build wheel ... \u001b[?25ldone\n",
      "\u001b[?25h    Preparing wheel metadata ... \u001b[?25ldone\n",
      "\u001b[?25hCollecting rich (from hmf@ git+git://github.com/steven-murray/hmf.git)\n",
      "  Using cached https://files.pythonhosted.org/packages/7a/ae/706a66eef45c279feedaacfa203def207c9aa46daf9a62a8f7034c58087c/rich-9.3.0-py3-none-any.whl\n",
      "Requirement already satisfied: click in /global/common/cori_cle7/software/python/3.7-anaconda-2019.10/lib/python3.7/site-packages (from hmf@ git+git://github.com/steven-murray/hmf.git) (7.0)\n",
      "Collecting toml>=0.10.1 (from hmf@ git+git://github.com/steven-murray/hmf.git)\n",
      "  Using cached https://files.pythonhosted.org/packages/44/6f/7120676b6d73228c96e17f1f794d8ab046fc910d781c8d151120c3f1569e/toml-0.10.2-py2.py3-none-any.whl\n",
      "Requirement already satisfied: scipy>=0.12.0 in /global/common/cori_cle7/software/python/3.7-anaconda-2019.10/lib/python3.7/site-packages (from hmf@ git+git://github.com/steven-murray/hmf.git) (1.3.1)\n",
      "Requirement already satisfied: numpy>=1.6.2 in /global/common/cori_cle7/software/python/3.7-anaconda-2019.10/lib/python3.7/site-packages (from hmf@ git+git://github.com/steven-murray/hmf.git) (1.17.2)\n",
      "Collecting deprecation (from hmf@ git+git://github.com/steven-murray/hmf.git)\n",
      "  Using cached https://files.pythonhosted.org/packages/02/c3/253a89ee03fc9b9682f1541728eb66db7db22148cd94f89ab22528cd1e1b/deprecation-2.1.0-py2.py3-none-any.whl\n",
      "Requirement already satisfied: importlib-metadata; python_version < \"3.8\" in /global/common/cori_cle7/software/python/3.7-anaconda-2019.10/lib/python3.7/site-packages (from hmf@ git+git://github.com/steven-murray/hmf.git) (0.23)\n",
      "Requirement already satisfied: astropy>=1.1 in /global/common/cori_cle7/software/python/3.7-anaconda-2019.10/lib/python3.7/site-packages (from hmf@ git+git://github.com/steven-murray/hmf.git) (3.2.2)\n",
      "Collecting commonmark<0.10.0,>=0.9.0 (from rich->hmf@ git+git://github.com/steven-murray/hmf.git)\n",
      "  Using cached https://files.pythonhosted.org/packages/b1/92/dfd892312d822f36c55366118b95d914e5f16de11044a27cf10a7d71bbbf/commonmark-0.9.1-py2.py3-none-any.whl\n",
      "Collecting pygments<3.0.0,>=2.6.0 (from rich->hmf@ git+git://github.com/steven-murray/hmf.git)\n",
      "  Using cached https://files.pythonhosted.org/packages/85/c5/c437c383d5917fae9782eb6588bec8aff931afe13c76b9e8c03dacee9beb/Pygments-2.7.3-py3-none-any.whl\n",
      "Collecting typing-extensions<4.0.0,>=3.7.4 (from rich->hmf@ git+git://github.com/steven-murray/hmf.git)\n",
      "  Using cached https://files.pythonhosted.org/packages/60/7a/e881b5abb54db0e6e671ab088d079c57ce54e8a01a3ca443f561ccadb37e/typing_extensions-3.7.4.3-py3-none-any.whl\n",
      "Requirement already satisfied: colorama<0.5.0,>=0.4.0 in /global/common/cori_cle7/software/python/3.7-anaconda-2019.10/lib/python3.7/site-packages (from rich->hmf@ git+git://github.com/steven-murray/hmf.git) (0.4.1)\n",
      "Requirement already satisfied: packaging in /global/common/cori_cle7/software/python/3.7-anaconda-2019.10/lib/python3.7/site-packages (from deprecation->hmf@ git+git://github.com/steven-murray/hmf.git) (19.2)\n",
      "Requirement already satisfied: zipp>=0.5 in /global/common/cori_cle7/software/python/3.7-anaconda-2019.10/lib/python3.7/site-packages (from importlib-metadata; python_version < \"3.8\"->hmf@ git+git://github.com/steven-murray/hmf.git) (0.6.0)\n",
      "Requirement already satisfied: pyparsing>=2.0.2 in /global/common/cori_cle7/software/python/3.7-anaconda-2019.10/lib/python3.7/site-packages (from packaging->deprecation->hmf@ git+git://github.com/steven-murray/hmf.git) (2.4.2)\n",
      "Requirement already satisfied: six in /global/common/cori_cle7/software/python/3.7-anaconda-2019.10/lib/python3.7/site-packages (from packaging->deprecation->hmf@ git+git://github.com/steven-murray/hmf.git) (1.12.0)\n",
      "Requirement already satisfied: more-itertools in /global/common/cori_cle7/software/python/3.7-anaconda-2019.10/lib/python3.7/site-packages (from zipp>=0.5->importlib-metadata; python_version < \"3.8\"->hmf@ git+git://github.com/steven-murray/hmf.git) (7.2.0)\n",
      "Building wheels for collected packages: hmf\n",
      "  Building wheel for hmf (PEP 517) ... \u001b[?25ldone\n",
      "\u001b[?25h  Created wheel for hmf: filename=hmf-3.3.3.dev1+g95c3440-cp37-none-any.whl size=69979 sha256=ad33caee13f7e64e5823ac0dec5432b34a372923410fb076c3556ce734da6ef9\n",
      "  Stored in directory: /tmp/pip-ephem-wheel-cache-sannwwhf/wheels/a5/32/dc/dde04c0835e104b128ff5ff5e62a03c59cff80c752f7460cf0\n",
      "Successfully built hmf\n",
      "\u001b[31mERROR: spyder 3.3.6 requires pyqt5<5.13; python_version >= \"3\", which is not installed.\u001b[0m\n",
      "\u001b[31mERROR: spyder 3.3.6 requires pyqtwebengine<5.13; python_version >= \"3\", which is not installed.\u001b[0m\n",
      "Installing collected packages: commonmark, pygments, typing-extensions, rich, toml, deprecation, hmf\n",
      "\u001b[33m  WARNING: The script cmark is installed in '/global/homes/j/jialiu/.local/cori/3.7-anaconda-2019.10/bin' which is not on PATH.\n",
      "  Consider adding this directory to PATH or, if you prefer to suppress this warning, use --no-warn-script-location.\u001b[0m\n",
      "\u001b[33m  WARNING: The script pygmentize is installed in '/global/homes/j/jialiu/.local/cori/3.7-anaconda-2019.10/bin' which is not on PATH.\n",
      "  Consider adding this directory to PATH or, if you prefer to suppress this warning, use --no-warn-script-location.\u001b[0m\n",
      "\u001b[33m  WARNING: The script hmf is installed in '/global/homes/j/jialiu/.local/cori/3.7-anaconda-2019.10/bin' which is not on PATH.\n",
      "  Consider adding this directory to PATH or, if you prefer to suppress this warning, use --no-warn-script-location.\u001b[0m\n",
      "Successfully installed commonmark-0.9.1 deprecation-2.1.0 hmf-3.3.3.dev1+g95c3440 pygments-2.7.3 rich-9.3.0 toml-0.10.2 typing-extensions-3.7.4.3\n"
     ]
    }
   ],
   "source": [
    "!pip install hmf@git+git://github.com/steven-murray/hmf.git --user"
   ]
  },
  {
   "cell_type": "code",
   "execution_count": 11,
   "metadata": {},
   "outputs": [
    {
     "data": {
      "text/plain": [
       "32768"
      ]
     },
     "execution_count": 11,
     "metadata": {},
     "output_type": "execute_result"
    }
   ],
   "source": [
    "\n",
    "os.system(\"git add HMF.ipynb; git commit -m 'add notebook'; git push \")"
   ]
  },
  {
   "cell_type": "code",
   "execution_count": null,
   "metadata": {},
   "outputs": [],
   "source": []
  }
 ],
 "metadata": {
  "kernelspec": {
   "display_name": "Python 3",
   "language": "python",
   "name": "python3"
  },
  "language_info": {
   "codemirror_mode": {
    "name": "ipython",
    "version": 3
   },
   "file_extension": ".py",
   "mimetype": "text/x-python",
   "name": "python",
   "nbconvert_exporter": "python",
   "pygments_lexer": "ipython3",
   "version": "3.7.4"
  }
 },
 "nbformat": 4,
 "nbformat_minor": 4
}
